{
 "cells": [
  {
   "cell_type": "code",
   "execution_count": 6,
   "metadata": {},
   "outputs": [
    {
     "name": "stdout",
     "output_type": "stream",
     "text": [
      "The solutions are 1.0 and 2.0\n"
     ]
    }
   ],
   "source": [
    "# Quadratic solution example with input from a file\n",
    "\n",
    "import math\n",
    "\n",
    "# Read coefficients from a file\n",
    "with open('input.txt', 'r') as file:\n",
    "    lines = file.readlines()\n",
    "    a = float(lines[0])\n",
    "    b = float(lines[1])\n",
    "    c = float(lines[2])\n",
    "\n",
    "d = b**2 - 4*a*c\n",
    "\n",
    "sol1 = (-b - math.sqrt(d)) / (2*a)\n",
    "sol2 = (-b + math.sqrt(d)) / (2*a)\n",
    "\n",
    "print(f\"The solutions are {sol1} and {sol2}\")\n"
   ]
  }
 ],
 "metadata": {
  "kernelspec": {
   "display_name": "Python 3",
   "language": "python",
   "name": "python3"
  },
  "language_info": {
   "codemirror_mode": {
    "name": "ipython",
    "version": 3
   },
   "file_extension": ".py",
   "mimetype": "text/x-python",
   "name": "python",
   "nbconvert_exporter": "python",
   "pygments_lexer": "ipython3",
   "version": "3.7.3"
  }
 },
 "nbformat": 4,
 "nbformat_minor": 2
}
