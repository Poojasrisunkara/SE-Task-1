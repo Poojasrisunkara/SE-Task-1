{
 "cells": [
  {
   "cell_type": "code",
   "execution_count": 2,
   "metadata": {},
   "outputs": [
    {
     "name": "stdout",
     "output_type": "stream",
     "text": [
      "The solutions are 1.0 and 2.0\n"
     ]
    }
   ],
   "source": [
    "# Quadratic solution example with hard-coded values\n",
    "\n",
    "import math\n",
    "\n",
    "# Coefficients\n",
    "a = 1\n",
    "b = -3\n",
    "c = 2\n",
    "\n",
    "# Calculate the discriminant\n",
    "d = b**2 - 4*a*c\n",
    "\n",
    "# Find two solutions\n",
    "sol1 = (-b - math.sqrt(d)) / (2*a)\n",
    "sol2 = (-b + math.sqrt(d)) / (2*a)\n",
    "\n",
    "print(f\"The solutions are {sol1} and {sol2}\")\n"
   ]
  }
 ],
 "metadata": {
  "kernelspec": {
   "display_name": "Python 3",
   "language": "python",
   "name": "python3"
  },
  "language_info": {
   "codemirror_mode": {
    "name": "ipython",
    "version": 3
   },
   "file_extension": ".py",
   "mimetype": "text/x-python",
   "name": "python",
   "nbconvert_exporter": "python",
   "pygments_lexer": "ipython3",
   "version": "3.7.3"
  }
 },
 "nbformat": 4,
 "nbformat_minor": 2
}
