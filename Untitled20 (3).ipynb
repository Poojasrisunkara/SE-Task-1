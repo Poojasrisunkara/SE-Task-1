{
 "cells": [
  {
   "cell_type": "code",
   "execution_count": 8,
   "metadata": {},
   "outputs": [
    {
     "name": "stdout",
     "output_type": "stream",
     "text": [
      "For coefficients a=1.0, b=-3.0, c=2.0, the solutions are 1.0 and 2.0\n",
      "For coefficients a=1.0, b=-2.0, c=1.0, the solutions are 1.0 and 1.0\n",
      "For coefficients a=2.0, b=-4.0, c=2.0, the solutions are 1.0 and 1.0\n"
     ]
    }
   ],
   "source": [
    "# Quadratic solution example with multiple sets of inputs from a file\n",
    "\n",
    "import math\n",
    "\n",
    "# Read coefficients from a file\n",
    "with open('input1.txt', 'r') as file:\n",
    "    lines = file.readlines()\n",
    "\n",
    "for i in range(0, len(lines), 3):\n",
    "    a = float(lines[i])\n",
    "    b = float(lines[i + 1])\n",
    "    c = float(lines[i + 2])\n",
    "    \n",
    "    d = b**2 - 4*a*c\n",
    "    \n",
    "    sol1 = (-b - math.sqrt(d)) / (2*a)\n",
    "    sol2 = (-b + math.sqrt(d)) / (2*a)\n",
    "    \n",
    "    print(f\"For coefficients a={a}, b={b}, c={c}, the solutions are {sol1} and {sol2}\")\n"
   ]
  }
 ],
 "metadata": {
  "kernelspec": {
   "display_name": "Python 3",
   "language": "python",
   "name": "python3"
  },
  "language_info": {
   "codemirror_mode": {
    "name": "ipython",
    "version": 3
   },
   "file_extension": ".py",
   "mimetype": "text/x-python",
   "name": "python",
   "nbconvert_exporter": "python",
   "pygments_lexer": "ipython3",
   "version": "3.7.3"
  }
 },
 "nbformat": 4,
 "nbformat_minor": 2
}
